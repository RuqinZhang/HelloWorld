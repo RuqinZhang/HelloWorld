{
 "cells": [
  {
   "cell_type": "code",
   "execution_count": 4,
   "metadata": {},
   "outputs": [],
   "source": [
    "import smtplib;\n",
    "from email.mime.text import MIMEText\n",
    "from email.header import Header\n",
    "import re"
   ]
  },
  {
   "cell_type": "code",
   "execution_count": 2,
   "metadata": {},
   "outputs": [],
   "source": [
    "file = open(\"Searching_log.txt\", \"r\") \n",
    "file = file.readlines()"
   ]
  },
  {
   "cell_type": "code",
   "execution_count": 5,
   "metadata": {},
   "outputs": [],
   "source": [
    "pattern = re.compile(r'Target: (\\w+),(\\w+)')"
   ]
  },
  {
   "cell_type": "code",
   "execution_count": 10,
   "metadata": {},
   "outputs": [],
   "source": [
    "receivers=[]\n",
    "items=[]\n",
    "for line in file:\n",
    "        match = pattern.match(line)\n",
    "        if match:\n",
    "            receivers.append(match.group(1))\n",
    "            items.append(match.group(2))"
   ]
  },
  {
   "cell_type": "code",
   "execution_count": 15,
   "metadata": {},
   "outputs": [
    {
     "data": {
      "text/plain": [
       "[0, 0, 0]"
      ]
     },
     "execution_count": 15,
     "metadata": {},
     "output_type": "execute_result"
    }
   ],
   "source": [
    "items\n"
   ]
  },
  {
   "cell_type": "code",
   "execution_count": 7,
   "metadata": {},
   "outputs": [],
   "source": [
    "import pandas as pd\n",
    "import csv\n",
    "all_groceries = pd.read_csv('All_groceries.csv')\n",
    "all_groceries.drop(columns = 'Unnamed: 0',inplace = True)\n",
    "all_groceries=all_groceries.reindex(columns = ['Market','Name','Price','Sale','Image'])"
   ]
  },
  {
   "cell_type": "code",
   "execution_count": 14,
   "metadata": {},
   "outputs": [],
   "source": [
    "for i in range(len(items)):\n",
    "    for j in range(len(all_groceries)):\n",
    "        if str(items[i]) in all_groceries.loc[j,'Name'] and all_groceries.loc[j,'Sale']!='NoSale':\n",
    "            items[i]=all_groceries.loc[j,:]\n",
    "        else:\n",
    "            items[i]=0\n",
    "        \n",
    "            "
   ]
  },
  {
   "cell_type": "code",
   "execution_count": 16,
   "metadata": {},
   "outputs": [],
   "source": [
    "for i in range(len(receivers)):\n",
    "    if items[i]!=0:\n",
    "        smtp = smtplib.SMTP('smtp.gmail.com', 587);\n",
    "        smtp.starttls()\n",
    "        message = MIMEText('On sale Product:'+ items[i] )\n",
    "        message['From'] = Header('HelloWorld Group')\n",
    "        message['To'] = Header('Customers')\n",
    "        message['Subject'] = Header('Promotion')\n",
    "        email_sender = input(\"To test the fucntion, please enter your google email address as a sender: \")\n",
    "        email_password = input(\"Please enter your app specific password to login: \")\n",
    "        try:\n",
    "            smtp.login(str(email_sender),str(email_password))\n",
    "        except:\n",
    "            print(\"Fail to login\")\n",
    "        email_receiver = receivers[i]\n",
    "        try: \n",
    "            smtp.sendmail(email_sender,email_receiver,message.as_string())\n",
    "            print(\"Send emails successfully\")\n",
    "        except smtplib.SMTPException:\n",
    "            print(\"Cannot send emails.\")"
   ]
  }
 ],
 "metadata": {
  "kernelspec": {
   "display_name": "Python 3",
   "language": "python",
   "name": "python3"
  },
  "language_info": {
   "codemirror_mode": {
    "name": "ipython",
    "version": 3
   },
   "file_extension": ".py",
   "mimetype": "text/x-python",
   "name": "python",
   "nbconvert_exporter": "python",
   "pygments_lexer": "ipython3",
   "version": "3.6.3"
  }
 },
 "nbformat": 4,
 "nbformat_minor": 2
}
