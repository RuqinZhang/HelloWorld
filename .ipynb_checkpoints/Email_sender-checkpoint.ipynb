{
 "cells": [
  {
   "cell_type": "code",
   "execution_count": null,
   "metadata": {},
   "outputs": [],
   "source": [
    "import smtplib;\n",
    "from email.mime.text import MIMEText\n",
    "from email.header import Header\n",
    "import re"
   ]
  },
  {
   "cell_type": "code",
   "execution_count": null,
   "metadata": {},
   "outputs": [],
   "source": [
    "file = open(\"Searching_log.txt\", \"r\") \n",
    "file = file.readlines()"
   ]
  },
  {
   "cell_type": "code",
   "execution_count": null,
   "metadata": {},
   "outputs": [],
   "source": [
    "pattern = re.compile(r'Target: (\\w+),(\\S+)')"
   ]
  },
  {
   "cell_type": "code",
   "execution_count": null,
   "metadata": {},
   "outputs": [],
   "source": [
    "receivers=[]\n",
    "items=[]\n",
    "for line in file:\n",
    "        match = pattern.match(line)\n",
    "        if match:\n",
    "            receivers.append(match.group(2))\n",
    "            items.append(match.group(1))"
   ]
  },
  {
   "cell_type": "code",
   "execution_count": null,
   "metadata": {},
   "outputs": [],
   "source": [
    "import pandas as pd\n",
    "import csv\n",
    "all_groceries = pd.read_csv('All_groceries.csv')\n",
    "all_groceries.drop(columns = 'Unnamed: 0',inplace = True)\n",
    "all_groceries=all_groceries.reindex(columns = ['Market','Name','Price','Sale','Image'])"
   ]
  },
  {
   "cell_type": "code",
   "execution_count": null,
   "metadata": {},
   "outputs": [],
   "source": [
    "\n",
    "for i in range(len(items)):\n",
    "    for j in range(len(all_groceries)):\n",
    "        if str(items[i]) in all_groceries.loc[j,'Name'].lower():\n",
    "            if all_groceries.loc[j,'Sale']!='NoSale':\n",
    "                items[i]=all_groceries.loc[j,:]\n",
    "      \n",
    "        \n",
    "        \n",
    "            "
   ]
  },
  {
   "cell_type": "code",
   "execution_count": null,
   "metadata": {},
   "outputs": [],
   "source": [
    "\n",
    "smtp = smtplib.SMTP('smtp.gmail.com', 587);\n",
    "smtp.starttls()\n",
    "message = MIMEText('On sale Product:'+ str(items[i]))\n",
    "message['From'] = Header('HelloWorld Group')\n",
    "message['To'] = Header('Customers')\n",
    "message['Subject'] = Header('Promotion')\n",
    "email_sender = input(\"To test the fucntion, please enter your google email address as a sender: \")\n",
    "email_password = input(\"Please enter your app specific password to login: \")\n",
    "for i in range(len(receivers)):\n",
    "    if len(items[i])>2:\n",
    "        try:\n",
    "            smtp.login(str(email_sender),str(email_password))\n",
    "        except:\n",
    "            print(\"Fail to login\")\n",
    "        email_receiver = receivers[i]\n",
    "        try: \n",
    "            smtp.sendmail(email_sender,email_receiver,message.as_string())\n",
    "            print(\"Send emails successfully\")\n",
    "        except smtplib.SMTPException:\n",
    "            print(\"Cannot send emails.\")"
   ]
  },
  {
   "cell_type": "code",
   "execution_count": null,
   "metadata": {},
   "outputs": [],
   "source": []
  }
 ],
 "metadata": {
  "kernelspec": {
   "display_name": "Python 3",
   "language": "python",
   "name": "python3"
  },
  "language_info": {
   "codemirror_mode": {
    "name": "ipython",
    "version": 3
   },
   "file_extension": ".py",
   "mimetype": "text/x-python",
   "name": "python",
   "nbconvert_exporter": "python",
   "pygments_lexer": "ipython3",
   "version": "3.6.3"
  }
 },
 "nbformat": 4,
 "nbformat_minor": 2
}
