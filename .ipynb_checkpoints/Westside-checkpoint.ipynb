{
 "cells": [
  {
   "cell_type": "code",
   "execution_count": 6,
   "metadata": {},
   "outputs": [],
   "source": [
    "import re\n",
    "import csv\n",
    "import pandas as pd\n",
    "from bs4 import BeautifulSoup\n",
    "from selenium import webdriver\n",
    "from selenium.webdriver.common.keys import Keys\n",
    "from selenium.webdriver.common.by import By"
   ]
  },
  {
   "cell_type": "code",
   "execution_count": 10,
   "metadata": {},
   "outputs": [],
   "source": [
    "page = f'pn={1}'\n",
    "url = f'https://wmarketnyc110st.storebyweb.com/s/1000-1/b?ps=64&'+page+'&Dept=GROCERY'\n",
    "driver = webdriver.Firefox()\n",
    "driver.get(url)\n",
    "element = driver.find_elements_by_class_name('item-card')\n",
    "df = pd.DataFrame(columns = ['Name','Price','Sale'])\n",
    "for e in element:\n",
    "    text = e.text\n",
    "    pattern = re.compile('\\n')\n",
    "    info = pattern.split(text)\n",
    "    if 'Save' in info[0]:\n",
    "        sale = 'OnSale'+ info[0]\n",
    "        price = info[1]\n",
    "        name = info[2]\n",
    "    else:\n",
    "        sale = \"NoSale\"\n",
    "        price = info[2]\n",
    "        name = info[0]\n",
    "    row = {\"Name\":name,\"Price\":price,\"Sale\":sale}\n",
    "    df.loc[df.shape[0]+1] = row\n",
    "\n",
    "# df.to_csv('West.csv')"
   ]
  }
 ],
 "metadata": {
  "kernelspec": {
   "display_name": "Python 3",
   "language": "python",
   "name": "python3"
  },
  "language_info": {
   "codemirror_mode": {
    "name": "ipython",
    "version": 3
   },
   "file_extension": ".py",
   "mimetype": "text/x-python",
   "name": "python",
   "nbconvert_exporter": "python",
   "pygments_lexer": "ipython3",
   "version": "3.6.5"
  }
 },
 "nbformat": 4,
 "nbformat_minor": 2
}
