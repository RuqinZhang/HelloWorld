{
 "cells": [
  {
   "cell_type": "code",
   "execution_count": 1,
   "metadata": {},
   "outputs": [],
   "source": [
    "import re\n",
    "import csv\n",
    "import pandas as pd\n",
    "from bs4 import BeautifulSoup\n",
    "from selenium import webdriver\n",
    "from selenium.webdriver.common.keys import Keys\n",
    "from selenium.webdriver.common.by import By"
   ]
  },
  {
   "cell_type": "code",
   "execution_count": 11,
   "metadata": {},
   "outputs": [],
   "source": [
    "def crawl_westside(i,j,file_name):\n",
    "    df = pd.DataFrame(columns = ['Name','Price','Sale','Image'])\n",
    "    \n",
    "    for i in range(i,j+1):\n",
    "        page = f'pn={i}'\n",
    "        url = f'https://wmarketnyc110st.storebyweb.com/s/1000-1/b?ps=64&'+page+'&Dept=GROCERY'\n",
    "        #Launch Firefox explorer\n",
    "        driver = webdriver.Firefox() \n",
    "        driver.get(url)\n",
    "        #Record the whole information for an item\n",
    "        element = driver.find_elements_by_tag_name('item-card') \n",
    "        \n",
    "        for e in element:\n",
    "            name = e.find_elements_by_css_selector('a.ng-binding')[0].text\n",
    "            price = e.find_elements_by_css_selector('span.ng-binding.price-new')[0].text\n",
    "            image = e.find_elements_by_css_selector('img.header-image.ng-scope')[0].get_attribute('src')\n",
    "            promotion = e.find_elements_by_css_selector('div.promo-ribbon.ng-binding.ng-scope')\n",
    "            if promotion != []:\n",
    "                if re.search(r'Save',promotion[0].text):\n",
    "                    sale = 'OnSale '+promotion[0].text\n",
    "            else:\n",
    "                sale = 'NoSale'\n",
    "                \n",
    "            row = {\"Name\":name,\"Price\":price,\"Sale\":sale,\"Image\":image}\n",
    "            #insert one item information to the dataframe\n",
    "            df.loc[df.shape[0]+1] = row\n",
    "\n",
    "    df.to_csv(file_name)\n",
    "    return df"
   ]
  },
  {
   "cell_type": "code",
   "execution_count": 17,
   "metadata": {},
   "outputs": [],
   "source": [
    "df1_20 = crawl_westside(1,20,'Westside1_20.csv')\n",
    "df21_40 = crawl_westside(21,40,'Westside21_40.csv')\n",
    "df41_60 = crawl_westside(41,60,'Westside41_60.csv')\n",
    "df61_83 = crawl_westside(61,83,'Westside61_83.csv')\n",
    "df_westside = pd.concat([df1_20,df21_40,df41_60,df61_83],ignore_index = True)\n",
    "df_westside.to_csv('Westside_allgroceries.csv')"
   ]
  },
  {
   "cell_type": "markdown",
   "metadata": {},
   "source": [
    "Reference\n",
    "\n",
    "[1] https://selenium-python.readthedocs.io/installation.html\n"
   ]
  }
 ],
 "metadata": {
  "kernelspec": {
   "display_name": "Python 3",
   "language": "python",
   "name": "python3"
  },
  "language_info": {
   "codemirror_mode": {
    "name": "ipython",
    "version": 3
   },
   "file_extension": ".py",
   "mimetype": "text/x-python",
   "name": "python",
   "nbconvert_exporter": "python",
   "pygments_lexer": "ipython3",
   "version": "3.6.5"
  }
 },
 "nbformat": 4,
 "nbformat_minor": 2
}
