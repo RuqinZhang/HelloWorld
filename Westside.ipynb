{
 "cells": [
  {
   "cell_type": "code",
   "execution_count": 1,
   "metadata": {},
   "outputs": [],
   "source": [
    "import re\n",
    "import csv\n",
    "import pandas as pd\n",
    "from bs4 import BeautifulSoup\n",
    "from selenium import webdriver\n",
    "from selenium.webdriver.common.keys import Keys\n",
    "from selenium.webdriver.common.by import By"
   ]
  },
  {
   "cell_type": "code",
   "execution_count": 35,
   "metadata": {},
   "outputs": [],
   "source": [
    "def crawl_westside(i,j,file_name):\n",
    "    df = pd.DataFrame(columns = ['Name','Price','Sale'])\n",
    "    for i in range(i,j+1):\n",
    "        page = f'pn={i}'\n",
    "        url = f'https://wmarketnyc110st.storebyweb.com/s/1000-1/b?ps=64&'+page+'&Dept=GROCERY'\n",
    "        driver = webdriver.Firefox()\n",
    "        driver.get(url)\n",
    "        element = driver.find_elements_by_tag_name('item-card')\n",
    "        for e in element:\n",
    "            text = e.text\n",
    "            pattern = re.compile('\\n')\n",
    "            info = pattern.split(text)\n",
    "            if 'Save' in info[0]:\n",
    "                sale = 'OnSale '+ info[0]\n",
    "                name = e.find_elements_by_class_name('name')[0].text\n",
    "                if '$' in info[1]:\n",
    "                    price = info[1]+info[-2]\n",
    "                else:\n",
    "                    price = info[-2]\n",
    "            else:\n",
    "                sale = \"NoSale\"\n",
    "                name = e.find_elements_by_class_name('name')[0].text\n",
    "                price = info[-2]\n",
    "            row = {\"Name\":name,\"Price\":price,\"Sale\":sale}\n",
    "            df.loc[df.shape[0]+1] = row\n",
    "\n",
    "        df.to_csv(file_name)\n",
    "    return df"
   ]
  },
  {
   "cell_type": "code",
   "execution_count": 40,
   "metadata": {},
   "outputs": [
    {
     "data": {
      "text/plain": [
       "(5282, 3)"
      ]
     },
     "execution_count": 40,
     "metadata": {},
     "output_type": "execute_result"
    }
   ],
   "source": [
    "df1_10 = crawl_westside(1,10,'Westside1_10.csv')\n",
    "df11_20 = crawl_westside(11,20,'Westside11_20.csv')\n",
    "df21_40 = crawl_westside(21,40,'Westside21_40.csv')\n",
    "df41_60 = crawl_westside(41,60,'Westside41_60.csv')\n",
    "df61_83 = crawl_westside(61,83,'Westside61_83.csv')\n",
    "\n",
    "df_westside = pd.concat([df1_10,df11_20,df21_40,df41_60,df61_83],ignore_index = True)\n",
    "# df_westside.shape\n"
   ]
  },
  {
   "cell_type": "code",
   "execution_count": 5,
   "metadata": {},
   "outputs": [],
   "source": [
    "page = f'pn={3}'\n",
    "url = f'https://wmarketnyc110st.storebyweb.com/s/1000-1/b?ps=64&'+page+'&Dept=GROCERY'\n",
    "driver = webdriver.Firefox()\n",
    "driver.get(url)\n",
    "element = driver.find_elements_by_class_name('item-card')\n"
   ]
  },
  {
   "cell_type": "code",
   "execution_count": 27,
   "metadata": {},
   "outputs": [],
   "source": [
    "element = driver.find_elements_by_class_name('name')\n",
    "element2 = driver.find_elements_by_tag_name('ng-scope')\n",
    "# for e in element[16:30]:\n",
    "#     print(e.text)\n",
    "    \n",
    "for e in element2[16:30]:\n",
    "    print(e.text)\n",
    "    \n",
    "#     print(e.find_elements_by_class_name('name')[0].text)\n",
    "#     print(e.find_elements_by_tag_name('span')[0].text)"
   ]
  },
  {
   "cell_type": "code",
   "execution_count": 25,
   "metadata": {},
   "outputs": [],
   "source": [
    "df = pd.DataFrame(columns = ['Name','Price','Sale'])\n",
    "for e in element:\n",
    "    text = e.text\n",
    "    pattern = re.compile('\\n')\n",
    "    info = pattern.split(text)\n",
    "    if 'Save' in info[0]:\n",
    "        sale = 'OnSale '+ info[0]\n",
    "        price = info[1]\n",
    "        name = info[2]\n",
    "    else:\n",
    "        sale = \"NoSale\"\n",
    "        if '$' in info[0]:\n",
    "            price = info[0]\n",
    "            name = info[1]\n",
    "        else:\n",
    "            price = info[2]\n",
    "            name = info[0]\n",
    "    row = {\"Name\":name,\"Price\":price,\"Sale\":sale}\n",
    "    df.loc[df.shape[0]+1] = row\n",
    "\n",
    "df.to_csv('West12.csv')"
   ]
  }
 ],
 "metadata": {
  "kernelspec": {
   "display_name": "Python 3",
   "language": "python",
   "name": "python3"
  },
  "language_info": {
   "codemirror_mode": {
    "name": "ipython",
    "version": 3
   },
   "file_extension": ".py",
   "mimetype": "text/x-python",
   "name": "python",
   "nbconvert_exporter": "python",
   "pygments_lexer": "ipython3",
   "version": "3.6.5"
  }
 },
 "nbformat": 4,
 "nbformat_minor": 2
}
