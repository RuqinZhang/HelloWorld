{
 "cells": [
  {
   "cell_type": "code",
   "execution_count": 147,
   "metadata": {},
   "outputs": [],
   "source": [
    "# df={'1':['affdgfggegegergergegergergergerger',20,1,'w','http'],'2':['ef',3.4,0,'h','http']\n",
    "#     , '2':['ef',3.4,0,'h','http']\n",
    "#     ,'3':['ef',3.4,0,'h','http']\n",
    "#     ,'4':['ef',3.4,0,'h','http']\n",
    "#     ,'5':['ef',3.4,0,'h','http']\n",
    "#     ,'6':['ef',3.4,0,'h','http']\n",
    "#     ,'7':['ef',3.4,0,'h','http']\n",
    "#    ,'8':['ef',3.4,0,'h','http']\n",
    "#    ,'9':['ef',3.4,0,'h','http']\n",
    "#    ,'10':['ef',3.4,0,'h','http']\n",
    "#    ,'11':['ef',3.4,0,'h','http']\n",
    "#    ,'12':['ef',3.4,0,'h','http']\n",
    "#    ,'13':['ef',3.4,0,'h','http']\n",
    "#    ,'14':['ef',3.4,0,'h','http']\n",
    "#    ,'15':['ef',3.4,0,'h','http']\n",
    "#    ,'16':['ef',3.4,0,'h','http']\n",
    "#    ,'17':['ef',3.4,0,'h','http']\n",
    "#    ,'18':['ef',3.4,0,'h','http']}"
   ]
  },
  {
   "cell_type": "code",
   "execution_count": 15,
   "metadata": {},
   "outputs": [
    {
     "name": "stdout",
     "output_type": "stream",
     "text": [
      "Collecting pandas\n",
      "\u001b[?25l  Downloading https://files.pythonhosted.org/packages/e1/d8/feeb346d41f181e83fba45224ab14a8d8af019b48af742e047f3845d8cff/pandas-0.23.4-cp36-cp36m-manylinux1_x86_64.whl (8.9MB)\n",
      "\u001b[K    100% |████████████████████████████████| 8.9MB 3.5MB/s eta 0:00:01    73% |███████████████████████▋        | 6.5MB 44.7MB/s eta 0:00:01\n",
      "\u001b[?25hRequirement already satisfied: python-dateutil>=2.5.0 in /usr/local/lib/python3.6/site-packages (from pandas) (2.7.3)\n",
      "Collecting numpy>=1.9.0 (from pandas)\n",
      "\u001b[?25l  Downloading https://files.pythonhosted.org/packages/ff/7f/9d804d2348471c67a7d8b5f84f9bc59fd1cefa148986f2b74552f8573555/numpy-1.15.4-cp36-cp36m-manylinux1_x86_64.whl (13.9MB)\n",
      "\u001b[K    100% |████████████████████████████████| 13.9MB 2.4MB/s eta 0:00:01   28% |█████████                       | 3.9MB 45.8MB/s eta 0:00:01    57% |██████████████████▎             | 7.9MB 39.8MB/s eta 0:00:01\n",
      "\u001b[?25hRequirement already satisfied: pytz>=2011k in /usr/local/lib/python3.6/site-packages (from pandas) (2018.7)\n",
      "Requirement already satisfied: six>=1.5 in /usr/local/lib/python3.6/site-packages (from python-dateutil>=2.5.0->pandas) (1.11.0)\n",
      "Installing collected packages: numpy, pandas\n",
      "Successfully installed numpy-1.15.4 pandas-0.23.4\n"
     ]
    }
   ],
   "source": [
    "# !pip install pandas"
   ]
  },
  {
   "cell_type": "code",
   "execution_count": 16,
   "metadata": {},
   "outputs": [],
   "source": [
    "import csv\n",
    "import pandas as pd\n",
    "\n",
    "westside = pd.read_csv('Westside_allgrocery.csv')\n",
    "westside.drop(columns = 'Unnamed: 0',inplace = True)\n",
    "westside['Market'] = 'WestSide'\n",
    "westside = westside.reindex(columns = ['Market','Name','Price','Sale','Image'])\n",
    "\n",
    "westside_dict = {}\n",
    "\n",
    "for i in westside.index:\n",
    "    info = westside.loc[i]\n",
    "    westside_dict[f'{i}'] = [info['Market'],info['Name'],info['Price'],info['Sale'],info['Image']]"
   ]
  },
  {
   "cell_type": "code",
   "execution_count": 17,
   "metadata": {},
   "outputs": [],
   "source": [
    "# Choose the data source for gui\n",
    "df=westside_dict"
   ]
  },
  {
   "cell_type": "code",
   "execution_count": 18,
   "metadata": {},
   "outputs": [
    {
     "ename": "TclError",
     "evalue": "no display name and no $DISPLAY environment variable",
     "output_type": "error",
     "traceback": [
      "\u001b[0;31m---------------------------------------------------------------------------\u001b[0m",
      "\u001b[0;31mTclError\u001b[0m                                  Traceback (most recent call last)",
      "\u001b[0;32m<ipython-input-18-de8b1ce62f53>\u001b[0m in \u001b[0;36m<module>\u001b[0;34m\u001b[0m\n\u001b[1;32m     97\u001b[0m \u001b[0;34m\u001b[0m\u001b[0m\n\u001b[1;32m     98\u001b[0m \u001b[0;32mif\u001b[0m \u001b[0m__name__\u001b[0m \u001b[0;34m==\u001b[0m \u001b[0;34m'__main__'\u001b[0m\u001b[0;34m:\u001b[0m\u001b[0;34m\u001b[0m\u001b[0m\n\u001b[0;32m---> 99\u001b[0;31m     \u001b[0mmain\u001b[0m\u001b[0;34m(\u001b[0m\u001b[0;34m)\u001b[0m\u001b[0;34m\u001b[0m\u001b[0m\n\u001b[0m",
      "\u001b[0;32m<ipython-input-18-de8b1ce62f53>\u001b[0m in \u001b[0;36mmain\u001b[0;34m()\u001b[0m\n\u001b[1;32m     92\u001b[0m \u001b[0;34m\u001b[0m\u001b[0m\n\u001b[1;32m     93\u001b[0m \u001b[0;32mdef\u001b[0m \u001b[0mmain\u001b[0m\u001b[0;34m(\u001b[0m\u001b[0;34m)\u001b[0m\u001b[0;34m:\u001b[0m\u001b[0;34m\u001b[0m\u001b[0m\n\u001b[0;32m---> 94\u001b[0;31m     \u001b[0mroot\u001b[0m\u001b[0;34m=\u001b[0m\u001b[0mtk\u001b[0m\u001b[0;34m.\u001b[0m\u001b[0mTk\u001b[0m\u001b[0;34m(\u001b[0m\u001b[0;34m)\u001b[0m\u001b[0;34m\u001b[0m\u001b[0m\n\u001b[0m\u001b[1;32m     95\u001b[0m     \u001b[0mApp\u001b[0m\u001b[0;34m(\u001b[0m\u001b[0mroot\u001b[0m\u001b[0;34m,\u001b[0m\u001b[0mdf\u001b[0m\u001b[0;34m)\u001b[0m\u001b[0;34m\u001b[0m\u001b[0m\n\u001b[1;32m     96\u001b[0m     \u001b[0mroot\u001b[0m\u001b[0;34m.\u001b[0m\u001b[0mmainloop\u001b[0m\u001b[0;34m(\u001b[0m\u001b[0;34m)\u001b[0m\u001b[0;34m\u001b[0m\u001b[0m\n",
      "\u001b[0;32m/usr/local/lib/python3.6/tkinter/__init__.py\u001b[0m in \u001b[0;36m__init__\u001b[0;34m(self, screenName, baseName, className, useTk, sync, use)\u001b[0m\n\u001b[1;32m   2015\u001b[0m                 \u001b[0mbaseName\u001b[0m \u001b[0;34m=\u001b[0m \u001b[0mbaseName\u001b[0m \u001b[0;34m+\u001b[0m \u001b[0mext\u001b[0m\u001b[0;34m\u001b[0m\u001b[0m\n\u001b[1;32m   2016\u001b[0m         \u001b[0minteractive\u001b[0m \u001b[0;34m=\u001b[0m \u001b[0;36m0\u001b[0m\u001b[0;34m\u001b[0m\u001b[0m\n\u001b[0;32m-> 2017\u001b[0;31m         \u001b[0mself\u001b[0m\u001b[0;34m.\u001b[0m\u001b[0mtk\u001b[0m \u001b[0;34m=\u001b[0m \u001b[0m_tkinter\u001b[0m\u001b[0;34m.\u001b[0m\u001b[0mcreate\u001b[0m\u001b[0;34m(\u001b[0m\u001b[0mscreenName\u001b[0m\u001b[0;34m,\u001b[0m \u001b[0mbaseName\u001b[0m\u001b[0;34m,\u001b[0m \u001b[0mclassName\u001b[0m\u001b[0;34m,\u001b[0m \u001b[0minteractive\u001b[0m\u001b[0;34m,\u001b[0m \u001b[0mwantobjects\u001b[0m\u001b[0;34m,\u001b[0m \u001b[0museTk\u001b[0m\u001b[0;34m,\u001b[0m \u001b[0msync\u001b[0m\u001b[0;34m,\u001b[0m \u001b[0muse\u001b[0m\u001b[0;34m)\u001b[0m\u001b[0;34m\u001b[0m\u001b[0m\n\u001b[0m\u001b[1;32m   2018\u001b[0m         \u001b[0;32mif\u001b[0m \u001b[0museTk\u001b[0m\u001b[0;34m:\u001b[0m\u001b[0;34m\u001b[0m\u001b[0m\n\u001b[1;32m   2019\u001b[0m             \u001b[0mself\u001b[0m\u001b[0;34m.\u001b[0m\u001b[0m_loadtk\u001b[0m\u001b[0;34m(\u001b[0m\u001b[0;34m)\u001b[0m\u001b[0;34m\u001b[0m\u001b[0m\n",
      "\u001b[0;31mTclError\u001b[0m: no display name and no $DISPLAY environment variable"
     ]
    }
   ],
   "source": [
    "from tkinter import ttk\n",
    "import tkinter as tk\n",
    "\n",
    "class App():\n",
    "    \n",
    "    def __init__(self, root,df):\n",
    "# Product Details\n",
    "        self.data = df\n",
    "        self.root = root\n",
    "        self.MyFrame()\n",
    "        self.root.title(\"Best Product Search\")\n",
    "        self.Table()\n",
    "        self.LoadTable()\n",
    "        root.grid_rowconfigure(0, weight = 1)\n",
    "        root.grid_columnconfigure(0, weight = 1)\n",
    "\n",
    "# Frame, Entry and Button definations, declarations and function bindings\n",
    " # Defination of the search frame\n",
    "    def MyFrame(self):\n",
    "        frm = tk.Frame(self.root)\n",
    "        frm.grid(row=1, sticky='w')\n",
    "    \n",
    "        self.btnConnect = ttk.Button(self.root, text = \"Search\", command=self.Search).grid(row=1, column=3, sticky='W')\n",
    "        self.enteredlocation = tk.StringVar()\n",
    "    \n",
    "        self.e2=tk.Entry(frm)\n",
    "        self.e2.grid(row=1,column=3, sticky='w')\n",
    "    # Bind <Return> with Entry\n",
    "        self.e2.bind(\"<Return>\",self.Search)\n",
    " \n",
    " # Defination of table\n",
    "    def Table(self):\n",
    "        tv = ttk.Treeview(self.root)\n",
    "        tv['columns'] = ('product','price', 'sale','picture')\n",
    "        tv.heading(\"#0\", text='Supermarket', anchor='w')\n",
    "        tv.column(\"#0\", anchor=\"w\",width=100)\n",
    "        tv.heading('product', text='Product Name')\n",
    "        tv.column('product', anchor='w', width=300)\n",
    "        tv.heading('price', text='Price')\n",
    "        tv.column('price', anchor='w', width=60)\n",
    "        tv.heading('sale', text='Sale')\n",
    "        tv.column('sale', anchor='w', width=60)\n",
    "        tv.heading('picture', text='Picture')\n",
    "        tv.column('picture', anchor='w', width=500)\n",
    "        tv.grid(sticky = ('N','S','W','E'))\n",
    "        self.treeview = tv\n",
    "        self.root.grid_rowconfigure(0, weight = 1)\n",
    "        self.root.grid_columnconfigure(0, weight = 1)\n",
    "     # Add Scrollbar in the frame   \n",
    "        vbar = ttk.Scrollbar(self.root,orient='vertical',command=tv.yview)\n",
    "        tv.configure(yscrollcommand=vbar.set)\n",
    "        tv.grid(row=0,column=0,sticky=('N','S','W','E'))\n",
    "        vbar.grid(row=0,column=1,sticky=('N','S'))\n",
    "        for col in ['product','price','sale']:\n",
    "            tv.heading(col, text=col, command=lambda _col=col: self.treeview_sort_column(tv, _col, False))\n",
    "        \n",
    "        \n",
    " # Add function - Click treeview to sort\n",
    "    def treeview_sort_column(self,tv, col, reverse):\n",
    "        l = [(tv.set(k, col), k) for k in tv.get_children('')]\n",
    "#         print(tv.get_children(''))\n",
    "        l.sort(reverse=reverse)\n",
    "        # rearrange items in sorted positions\n",
    "        for index, (val, k) in enumerate(l):\n",
    "            tv.move(k, '', index)\n",
    "#             print(k)\n",
    "        tv.heading(col, command=lambda: self.treeview_sort_column(tv, col, not reverse))\n",
    "\n",
    "\n",
    " # Defination of the result table\n",
    "    def LoadTable(self):\n",
    "        \n",
    "        for k,v in self.data.items():\n",
    "            self.treeview.insert('', 'end', text=v[0], values=(v[1],v[2],v[3],v[4]))\n",
    "        \n",
    " # Defination of the searching method\n",
    "    def Search(self,event):\n",
    "        \n",
    "        for i in self.treeview.get_children():\n",
    "            self.treeview.delete(i)\n",
    "        for k,v in self.data.items():\n",
    "            \n",
    "            if self.e2.get().lower() in v[1].lower():\n",
    "                self.treeview.insert('', 'end', text=v[0], values=(v[1],v[2],v[3],v[4]))\n",
    "\n",
    "            if self.e2.get().lower() in 'sale':\n",
    "                if  v[3] != 'NoSale':\n",
    "                    self.treeview.insert('', 'end', text=v[0], values=(v[1],v[2],v[3],v[4]))\n",
    "\n",
    "#         print(self.e2.get().find(v[1]))\n",
    "#         print(self.e2.get())\n",
    "\n",
    "def main():\n",
    "    root=tk.Tk()\n",
    "    App(root,df)\n",
    "    root.mainloop()\n",
    "    \n",
    "if __name__ == '__main__':\n",
    "    main()"
   ]
  },
  {
   "cell_type": "code",
   "execution_count": null,
   "metadata": {},
   "outputs": [],
   "source": []
  }
 ],
 "metadata": {
  "kernelspec": {
   "display_name": "Python 3",
   "language": "python",
   "name": "python3"
  },
  "language_info": {
   "codemirror_mode": {
    "name": "ipython",
    "version": 3
   },
   "file_extension": ".py",
   "mimetype": "text/x-python",
   "name": "python",
   "nbconvert_exporter": "python",
   "pygments_lexer": "ipython3",
   "version": "3.6.3"
  }
 },
 "nbformat": 4,
 "nbformat_minor": 2
}
