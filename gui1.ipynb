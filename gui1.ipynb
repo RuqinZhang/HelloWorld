{
 "cells": [
  {
   "cell_type": "code",
   "execution_count": 3,
   "metadata": {},
   "outputs": [],
   "source": [
    "df={'1':['affdgfggegegergergegergergergerger',20,1,'w','http'],'2':['ef',3.4,0,'h','http']\n",
    "    , '2':['ef',3.4,0,'h','http']\n",
    "    ,'3':['ef',3.4,0,'h','http']\n",
    "    ,'4':['ef',3.4,0,'h','http']\n",
    "    ,'5':['ef',3.4,0,'h','http']\n",
    "    ,'6':['ef',3.4,0,'h','http']\n",
    "    ,'7':['ef',3.4,0,'h','http']\n",
    "   ,'8':['ef',3.4,0,'h','http']\n",
    "   ,'9':['ef',3.4,0,'h','http']\n",
    "   ,'10':['ef',3.4,0,'h','http']\n",
    "   ,'11':['ef',3.4,0,'h','http']\n",
    "   ,'12':['ef',3.4,0,'h','http']\n",
    "   ,'13':['ef',3.4,0,'h','http']\n",
    "   ,'14':['ef',3.4,0,'h','http']\n",
    "   ,'15':['ef',3.4,0,'h','http']\n",
    "   ,'16':['ef',3.4,0,'h','http']\n",
    "   ,'17':['ef',3.4,0,'h','http']\n",
    "   ,'18':['ef',3.4,0,'h','http']}"
   ]
  },
  {
   "cell_type": "code",
   "execution_count": 4,
   "metadata": {},
   "outputs": [
    {
     "data": {
      "text/plain": [
       "dict"
      ]
     },
     "execution_count": 4,
     "metadata": {},
     "output_type": "execute_result"
    }
   ],
   "source": [
    "type(df)"
   ]
  },
  {
   "cell_type": "code",
   "execution_count": 10,
   "metadata": {},
   "outputs": [
    {
     "ename": "TclError",
     "evalue": "no display name and no $DISPLAY environment variable",
     "output_type": "error",
     "traceback": [
      "\u001b[0;31m---------------------------------------------------------------------------\u001b[0m",
      "\u001b[0;31mTclError\u001b[0m                                  Traceback (most recent call last)",
      "\u001b[0;32m<ipython-input-10-839785b79446>\u001b[0m in \u001b[0;36m<module>\u001b[0;34m\u001b[0m\n\u001b[1;32m     81\u001b[0m \u001b[0;34m\u001b[0m\u001b[0m\n\u001b[1;32m     82\u001b[0m \u001b[0;32mif\u001b[0m \u001b[0m__name__\u001b[0m \u001b[0;34m==\u001b[0m \u001b[0;34m'__main__'\u001b[0m\u001b[0;34m:\u001b[0m\u001b[0;34m\u001b[0m\u001b[0m\n\u001b[0;32m---> 83\u001b[0;31m     \u001b[0mmain\u001b[0m\u001b[0;34m(\u001b[0m\u001b[0;34m)\u001b[0m\u001b[0;34m\u001b[0m\u001b[0m\n\u001b[0m",
      "\u001b[0;32m<ipython-input-10-839785b79446>\u001b[0m in \u001b[0;36mmain\u001b[0;34m()\u001b[0m\n\u001b[1;32m     76\u001b[0m \u001b[0;34m\u001b[0m\u001b[0m\n\u001b[1;32m     77\u001b[0m \u001b[0;32mdef\u001b[0m \u001b[0mmain\u001b[0m\u001b[0;34m(\u001b[0m\u001b[0;34m)\u001b[0m\u001b[0;34m:\u001b[0m\u001b[0;34m\u001b[0m\u001b[0m\n\u001b[0;32m---> 78\u001b[0;31m     \u001b[0mroot\u001b[0m\u001b[0;34m=\u001b[0m\u001b[0mTk\u001b[0m\u001b[0;34m(\u001b[0m\u001b[0;34m)\u001b[0m\u001b[0;34m\u001b[0m\u001b[0m\n\u001b[0m\u001b[1;32m     79\u001b[0m     \u001b[0mApp\u001b[0m\u001b[0;34m(\u001b[0m\u001b[0mroot\u001b[0m\u001b[0;34m)\u001b[0m\u001b[0;34m\u001b[0m\u001b[0m\n\u001b[1;32m     80\u001b[0m     \u001b[0mroot\u001b[0m\u001b[0;34m.\u001b[0m\u001b[0mmainloop\u001b[0m\u001b[0;34m(\u001b[0m\u001b[0;34m)\u001b[0m\u001b[0;34m\u001b[0m\u001b[0m\n",
      "\u001b[0;32m/usr/local/lib/python3.6/tkinter/__init__.py\u001b[0m in \u001b[0;36m__init__\u001b[0;34m(self, screenName, baseName, className, useTk, sync, use)\u001b[0m\n\u001b[1;32m   2015\u001b[0m                 \u001b[0mbaseName\u001b[0m \u001b[0;34m=\u001b[0m \u001b[0mbaseName\u001b[0m \u001b[0;34m+\u001b[0m \u001b[0mext\u001b[0m\u001b[0;34m\u001b[0m\u001b[0m\n\u001b[1;32m   2016\u001b[0m         \u001b[0minteractive\u001b[0m \u001b[0;34m=\u001b[0m \u001b[0;36m0\u001b[0m\u001b[0;34m\u001b[0m\u001b[0m\n\u001b[0;32m-> 2017\u001b[0;31m         \u001b[0mself\u001b[0m\u001b[0;34m.\u001b[0m\u001b[0mtk\u001b[0m \u001b[0;34m=\u001b[0m \u001b[0m_tkinter\u001b[0m\u001b[0;34m.\u001b[0m\u001b[0mcreate\u001b[0m\u001b[0;34m(\u001b[0m\u001b[0mscreenName\u001b[0m\u001b[0;34m,\u001b[0m \u001b[0mbaseName\u001b[0m\u001b[0;34m,\u001b[0m \u001b[0mclassName\u001b[0m\u001b[0;34m,\u001b[0m \u001b[0minteractive\u001b[0m\u001b[0;34m,\u001b[0m \u001b[0mwantobjects\u001b[0m\u001b[0;34m,\u001b[0m \u001b[0museTk\u001b[0m\u001b[0;34m,\u001b[0m \u001b[0msync\u001b[0m\u001b[0;34m,\u001b[0m \u001b[0muse\u001b[0m\u001b[0;34m)\u001b[0m\u001b[0;34m\u001b[0m\u001b[0m\n\u001b[0m\u001b[1;32m   2018\u001b[0m         \u001b[0;32mif\u001b[0m \u001b[0museTk\u001b[0m\u001b[0;34m:\u001b[0m\u001b[0;34m\u001b[0m\u001b[0m\n\u001b[1;32m   2019\u001b[0m             \u001b[0mself\u001b[0m\u001b[0;34m.\u001b[0m\u001b[0m_loadtk\u001b[0m\u001b[0;34m(\u001b[0m\u001b[0;34m)\u001b[0m\u001b[0;34m\u001b[0m\u001b[0m\n",
      "\u001b[0;31mTclError\u001b[0m: no display name and no $DISPLAY environment variable"
     ]
    }
   ],
   "source": [
    "import tkinter as tk\n",
    "from tkinter import *\n",
    "import os\n",
    "\n",
    "\n",
    "class App():\n",
    "    \n",
    "    def __init__(self, root):\n",
    "# Product Details\n",
    "        self.data = df\n",
    "        self.root = root\n",
    "        self.MyFrame()\n",
    "        self.root.title(\"Best Product Search\")\n",
    "        self.Table()\n",
    "        self.LoadTable()\n",
    "        #self.grid(sticky = (N,S,W,E))\n",
    "        root.grid_rowconfigure(0, weight = 1)\n",
    "        root.grid_columnconfigure(0, weight = 1)\n",
    "\n",
    "# Frame, Entry and Button definations, declarations and function bindings\n",
    " # Defination of the search frame\n",
    "    def MyFrame(self):\n",
    "        frm = Frame(self.root)\n",
    "        frm.grid(row=1, sticky='w')\n",
    "    \n",
    "        self.btnConnect = ttk.Button(self.root, text = \"Search\", command=self.Search).grid(row=1, column=3, sticky=W)\n",
    "        self.enteredlocation = StringVar()\n",
    "    \n",
    "        self.e2=Entry(frm)\n",
    "        self.e2.grid(row=1,column=3, sticky='w')\n",
    " \n",
    " # Defination of table\n",
    "    def Table(self):\n",
    "        tv = Treeview(self.root)\n",
    "        tv['columns'] = ('price', 'sale','supermarket','picture')\n",
    "        tv.heading(\"#0\", text='Name', anchor='w')\n",
    "        tv.column(\"#0\", anchor=\"w\",width=300)\n",
    "        tv.heading('price', text='Price')\n",
    "        tv.column('price', anchor='w', width=60)\n",
    "        tv.heading('sale', text='Sale')\n",
    "        tv.column('sale', anchor='w', width=60)\n",
    "        tv.heading('supermarket', text='Supermarket')\n",
    "        tv.column('supermarket', anchor='w', width=100)\n",
    "        tv.heading('picture', text='Picture')\n",
    "        tv.column('picture', anchor='w', width=300)\n",
    "        tv.grid(sticky = (N,S,W,E))\n",
    "        self.treeview = tv\n",
    "        self.root.grid_rowconfigure(0, weight = 1)\n",
    "        self.root.grid_columnconfigure(0, weight = 1)\n",
    "     # Add Scrollbar in the frame   \n",
    "        vbar = ttk.Scrollbar(self.root,orient=VERTICAL,command=tv.yview)\n",
    "        tv.configure(yscrollcommand=vbar.set)\n",
    "        tv.grid(row=0,column=0,sticky=NSEW)\n",
    "        vbar.grid(row=0,column=1,sticky=NS)\n",
    "\n",
    "\n",
    " # Defination of the result table\n",
    "    def LoadTable(self):\n",
    "        for k,v in self.data.items():\n",
    "            self.treeview.insert('', 'end', text=v[0], values=(v[1],v[2],v[3],v[4]))\n",
    " # Defination of the searching method\n",
    "    def Search(self):\n",
    "        \n",
    "        for i in self.treeview.get_children():\n",
    "            self.treeview.delete(i)\n",
    "        for k,v in self.data.items():\n",
    "            if self.e2.get() in v[0]:\n",
    "                self.treeview.insert('', 'end', text=v[0], values=(v[1],v[2],v[3],v[4]))\n",
    "                \n",
    "            if self.e2.get() in 'saleSale':\n",
    "                if  v[2]==1:\n",
    "                    self.treeview.insert('', 'end', text=v[0], values=(v[1],v[2],v[3],v[4]))\n",
    "         \n",
    "        print(self.e2.get().find(v[0]))\n",
    "        print(self.e2.get())\n",
    "\n",
    "def main():\n",
    "    root=Tk()\n",
    "    App(root)\n",
    "    root.mainloop()\n",
    "    \n",
    "if __name__ == '__main__':\n",
    "    main()"
   ]
  },
  {
   "cell_type": "code",
   "execution_count": null,
   "metadata": {},
   "outputs": [],
   "source": []
  },
  {
   "cell_type": "code",
   "execution_count": null,
   "metadata": {},
   "outputs": [],
   "source": []
  }
 ],
 "metadata": {
  "kernelspec": {
   "display_name": "Python 3",
   "language": "python",
   "name": "python3"
  },
  "language_info": {
   "codemirror_mode": {
    "name": "ipython",
    "version": 3
   },
   "file_extension": ".py",
   "mimetype": "text/x-python",
   "name": "python",
   "nbconvert_exporter": "python",
   "pygments_lexer": "ipython3",
   "version": "3.6.3"
  }
 },
 "nbformat": 4,
 "nbformat_minor": 2
}
