{
 "cells": [
  {
   "cell_type": "code",
   "execution_count": 147,
   "metadata": {},
   "outputs": [],
   "source": [
    "df={'1':['affdgfggegegergergegergergergerger',20,1,'w','http'],'2':['ef',3.4,0,'h','http']\n",
    "    , '2':['ef',3.4,0,'h','http']\n",
    "    ,'3':['ef',3.4,0,'h','http']\n",
    "    ,'4':['ef',3.4,0,'h','http']\n",
    "    ,'5':['ef',3.4,0,'h','http']\n",
    "    ,'6':['ef',3.4,0,'h','http']\n",
    "    ,'7':['ef',3.4,0,'h','http']\n",
    "   ,'8':['ef',3.4,0,'h','http']\n",
    "   ,'9':['ef',3.4,0,'h','http']\n",
    "   ,'10':['ef',3.4,0,'h','http']\n",
    "   ,'11':['ef',3.4,0,'h','http']\n",
    "   ,'12':['ef',3.4,0,'h','http']\n",
    "   ,'13':['ef',3.4,0,'h','http']\n",
    "   ,'14':['ef',3.4,0,'h','http']\n",
    "   ,'15':['ef',3.4,0,'h','http']\n",
    "   ,'16':['ef',3.4,0,'h','http']\n",
    "   ,'17':['ef',3.4,0,'h','http']\n",
    "   ,'18':['ef',3.4,0,'h','http']}"
   ]
  },
  {
   "cell_type": "code",
   "execution_count": 145,
   "metadata": {},
   "outputs": [
    {
     "data": {
      "text/plain": [
       "dict"
      ]
     },
     "execution_count": 145,
     "metadata": {},
     "output_type": "execute_result"
    }
   ],
   "source": [
    "type(df)"
   ]
  },
  {
   "cell_type": "code",
   "execution_count": 171,
   "metadata": {},
   "outputs": [],
   "source": [
    "from tkinter import ttk\n",
    "import tkinter as tk\n",
    "\n",
    "class App():\n",
    "    \n",
    "    def __init__(self, root):\n",
    "# Product Details\n",
    "        self.data = df\n",
    "        self.root = root\n",
    "        self.MyFrame()\n",
    "        self.root.title(\"Best Product Search\")\n",
    "        self.Table()\n",
    "        self.LoadTable()\n",
    "        #self.grid(sticky = (N,S,W,E))\n",
    "        root.grid_rowconfigure(0, weight = 1)\n",
    "        root.grid_columnconfigure(0, weight = 1)\n",
    "\n",
    "# Frame, Entry and Button definations, declarations and function bindings\n",
    " # Defination of the search frame\n",
    "    def MyFrame(self):\n",
    "        frm = Frame(self.root)\n",
    "        frm.grid(row=1, sticky='w')\n",
    "    \n",
    "        self.btnConnect = ttk.Button(self.root, text = \"Search\", command=self.Search).grid(row=1, column=3, sticky=W)\n",
    "        self.enteredlocation = StringVar()\n",
    "    \n",
    "        self.e2=Entry(frm)\n",
    "        self.e2.grid(row=1,column=3, sticky='w')\n",
    " \n",
    " # Defination of table\n",
    "    def Table(self):\n",
    "        tv = Treeview(self.root)\n",
    "        tv['columns'] = ('price', 'sale','supermarket','picture')\n",
    "        tv.heading(\"#0\", text='Name', anchor='w')\n",
    "        tv.column(\"#0\", anchor=\"w\",width=300)\n",
    "        tv.heading('price', text='Price')\n",
    "        tv.column('price', anchor='w', width=60)\n",
    "        tv.heading('sale', text='Sale')\n",
    "        tv.column('sale', anchor='w', width=60)\n",
    "        tv.heading('supermarket', text='Supermarket')\n",
    "        tv.column('supermarket', anchor='w', width=100)\n",
    "        tv.heading('picture', text='Picture')\n",
    "        tv.column('picture', anchor='w', width=300)\n",
    "        tv.grid(sticky = (N,S,W,E))\n",
    "        self.treeview = tv\n",
    "        self.root.grid_rowconfigure(0, weight = 1)\n",
    "        self.root.grid_columnconfigure(0, weight = 1)\n",
    "     # Add Scrollbar in the frame   \n",
    "        vbar = ttk.Scrollbar(self.root,orient=VERTICAL,command=tv.yview)\n",
    "        tv.configure(yscrollcommand=vbar.set)\n",
    "        tv.grid(row=0,column=0,sticky=NSEW)\n",
    "        vbar.grid(row=0,column=1,sticky=NS)\n",
    "\n",
    "\n",
    " # Defination of the result table\n",
    "    def LoadTable(self):\n",
    "        for k,v in self.data.items():\n",
    "            self.treeview.insert('', 'end', text=v[0], values=(v[1],v[2],v[3],v[4]))\n",
    " # Defination of the searching method\n",
    "    def Search(self):\n",
    "        \n",
    "        for i in self.treeview.get_children():\n",
    "            self.treeview.delete(i)\n",
    "        for k,v in self.data.items():\n",
    "            if self.e2.get() in v[0]:\n",
    "                self.treeview.insert('', 'end', text=v[0], values=(v[1],v[2],v[3],v[4]))\n",
    "                \n",
    "            if self.e2.get() in 'saleSale':\n",
    "                if  v[2]==1:\n",
    "                    self.treeview.insert('', 'end', text=v[0], values=(v[1],v[2],v[3],v[4]))\n",
    "         \n",
    "        print(self.e2.get().find(v[0]))\n",
    "        print(self.e2.get())\n",
    "\n",
    "def main():\n",
    "    root=Tk()\n",
    "    App(root)\n",
    "    root.mainloop()\n",
    "if __name__ == '__main__':\n",
    "    main()"
   ]
  },
  {
   "cell_type": "code",
   "execution_count": null,
   "metadata": {},
   "outputs": [],
   "source": []
  },
  {
   "cell_type": "code",
   "execution_count": null,
   "metadata": {},
   "outputs": [],
   "source": []
  }
 ],
 "metadata": {
  "kernelspec": {
   "display_name": "Python 3",
   "language": "python",
   "name": "python3"
  },
  "language_info": {
   "codemirror_mode": {
    "name": "ipython",
    "version": 3
   },
   "file_extension": ".py",
   "mimetype": "text/x-python",
   "name": "python",
   "nbconvert_exporter": "python",
   "pygments_lexer": "ipython3",
   "version": "3.6.3"
  }
 },
 "nbformat": 4,
 "nbformat_minor": 2
}
