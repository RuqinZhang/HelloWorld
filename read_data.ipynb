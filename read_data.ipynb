{
 "cells": [
  {
   "cell_type": "code",
   "execution_count": 1,
   "metadata": {},
   "outputs": [],
   "source": [
    "import csv\n",
    "import pandas as pd"
   ]
  },
  {
   "cell_type": "code",
   "execution_count": 2,
   "metadata": {},
   "outputs": [],
   "source": [
    "def read_data(file,market):\n",
    "    file = pd.read_csv(file)\n",
    "    file.drop(columns = 'Unnamed: 0',inplace = True)\n",
    "    file['Market'] = market\n",
    "    file = file.reindex(columns = ['Market','Name','Price','Sale','Image'])\n",
    "    return file\n"
   ]
  },
  {
   "cell_type": "code",
   "execution_count": 4,
   "metadata": {},
   "outputs": [],
   "source": [
    "westside = read_data('Westside_allgroceries.csv','Westside')\n",
    "westside['Name'] = westside['Name'].map(lambda x:x.capitalize())\n",
    "hmart = read_data('Hmart_allgroceries.csv','Hmart')\n",
    "seasons = read_data('Seasons_allgroceries.csv','Seasons')\n",
    "all_groceries = pd.concat([westside,hmart,seasons],ignore_index = True)\n",
    "all_groceries.to_csv('All_groceries.csv')"
   ]
  }
 ],
 "metadata": {
  "kernelspec": {
   "display_name": "Python 3",
   "language": "python",
   "name": "python3"
  },
  "language_info": {
   "codemirror_mode": {
    "name": "ipython",
    "version": 3
   },
   "file_extension": ".py",
   "mimetype": "text/x-python",
   "name": "python",
   "nbconvert_exporter": "python",
   "pygments_lexer": "ipython3",
   "version": "3.6.5"
  }
 },
 "nbformat": 4,
 "nbformat_minor": 2
}
