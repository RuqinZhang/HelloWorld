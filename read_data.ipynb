{
 "cells": [
  {
   "cell_type": "code",
   "execution_count": null,
   "metadata": {},
   "outputs": [],
   "source": [
    "import csv\n",
    "import pandas as pd"
   ]
  },
  {
   "cell_type": "code",
   "execution_count": null,
   "metadata": {},
   "outputs": [],
   "source": [
    "def read_data(file,market):\n",
    "    file = pd.read_csv(file)\n",
    "    file.drop(columns = 'Unnamed: 0',inplace = True)\n",
    "    file['Market'] = market\n",
    "    file = file.reindex(columns = ['Market','Name','Price','Sale','Image'])\n",
    "    return file\n"
   ]
  },
  {
   "cell_type": "code",
   "execution_count": null,
   "metadata": {},
   "outputs": [],
   "source": [
    "westside = read_data('Westside_allgrocery.csv','Westside')\n",
    "hmart = read_data('HmartGroceries.csv','Hmart')"
   ]
  },
  {
   "cell_type": "code",
   "execution_count": null,
   "metadata": {},
   "outputs": [],
   "source": [
    "def input_data(df1,df2):\n",
    "    df_all = pd.concat([df1,df2],ignore_index = True)\n",
    "    dict_ = {}\n",
    "    for i in df_all.index:\n",
    "        info = df_all.loc[i]\n",
    "        dict_[f'{i}'] = [info['Market'],info['Name'],info['Price'],info['Sale'],info['Image']]\n",
    "\n",
    "    return dict_\n",
    "    "
   ]
  },
  {
   "cell_type": "code",
   "execution_count": null,
   "metadata": {},
   "outputs": [],
   "source": [
    "all_dict = input_data(westside,hmart)"
   ]
  }
 ],
 "metadata": {
  "kernelspec": {
   "display_name": "Python 3",
   "language": "python",
   "name": "python3"
  },
  "language_info": {
   "codemirror_mode": {
    "name": "ipython",
    "version": 3
   },
   "file_extension": ".py",
   "mimetype": "text/x-python",
   "name": "python",
   "nbconvert_exporter": "python",
   "pygments_lexer": "ipython3",
   "version": "3.6.5"
  }
 },
 "nbformat": 4,
 "nbformat_minor": 2
}
