{
 "cells": [
  {
   "cell_type": "code",
   "execution_count": null,
   "metadata": {},
   "outputs": [],
   "source": [
    "import csv\n",
    "import pandas as pd"
   ]
  },
  {
   "cell_type": "code",
   "execution_count": null,
   "metadata": {},
   "outputs": [],
   "source": [
    "westside = pd.read_csv('Westside_allgrocery.csv')\n",
    "westside.drop(columns = 'Unnamed: 0',inplace = True)\n",
    "westside['Market'] = 'WestSide'\n",
    "westside = westside.reindex(columns = ['Market','Name','Price','Sale','Image'])"
   ]
  },
  {
   "cell_type": "code",
   "execution_count": null,
   "metadata": {},
   "outputs": [],
   "source": [
    "westside_dict = {}\n",
    "\n",
    "for i in westside.index:\n",
    "    info = westside.loc[i]\n",
    "    westside_dict[f'{i}'] = [info['Market'],info['Name'],info['Price'],info['Sale'],info['Image']]"
   ]
  }
 ],
 "metadata": {
  "kernelspec": {
   "display_name": "Python 3",
   "language": "python",
   "name": "python3"
  },
  "language_info": {
   "codemirror_mode": {
    "name": "ipython",
    "version": 3
   },
   "file_extension": ".py",
   "mimetype": "text/x-python",
   "name": "python",
   "nbconvert_exporter": "python",
   "pygments_lexer": "ipython3",
   "version": "3.6.5"
  }
 },
 "nbformat": 4,
 "nbformat_minor": 2
}
