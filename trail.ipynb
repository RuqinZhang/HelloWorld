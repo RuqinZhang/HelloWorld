{
 "cells": [
  {
   "cell_type": "markdown",
   "metadata": {},
   "source": [
    "Code Reference:\n",
    "https://www.youtube.com/watch?v=DQdeWX6-Uy8&list=PLXO45tsB95cIuXEgV-mvYWRd_hVC43Akk\n",
    "https://www.youtube.com/watch?v=7B-nvXUJGQs&index=2&list=PLXO45tsB95cIuXEgV-mvYWRd_hVC43Akk\n",
    "https://www.youtube.com/watch?v=KLq0W1wUVmw&list=PLXO45tsB95cIuXEgV-mvYWRd_hVC43Akk&index=3\n",
    "https://www.youtube.com/watch?v=SiIwSAIC458&index=4&list=PLXO45tsB95cIuXEgV-mvYWRd_hVC43Akk\n",
    "https://www.youtube.com/watch?v=OfmmsxVSP0o&index=5&list=PLXO45tsB95cIuXEgV-mvYWRd_hVC43Akk"
   ]
  },
  {
   "cell_type": "code",
   "execution_count": 22,
   "metadata": {},
   "outputs": [],
   "source": [
    "import bs4"
   ]
  },
  {
   "cell_type": "code",
   "execution_count": 23,
   "metadata": {},
   "outputs": [],
   "source": [
    "from urllib.request import urlopen as uReq\n",
    "from bs4 import BeautifulSoup as soup"
   ]
  },
  {
   "cell_type": "code",
   "execution_count": 24,
   "metadata": {},
   "outputs": [
    {
     "data": {
      "text/plain": [
       "'https://www.newegg.com/Product/ProductList.aspx?Submit=ENE&DEPA=0&Order=BESTMATCH&Description=graphics+card&ignorear=0&N=-1&isNodeId=1'"
      ]
     },
     "execution_count": 24,
     "metadata": {},
     "output_type": "execute_result"
    }
   ],
   "source": [
    "my_url = 'https://www.newegg.com/Product/ProductList.aspx?Submit=ENE&DEPA=0&Order=BESTMATCH&Description=graphics+card&ignorear=0&N=-1&isNodeId=1'\n",
    "my_url"
   ]
  },
  {
   "cell_type": "code",
   "execution_count": 25,
   "metadata": {},
   "outputs": [],
   "source": [
    "# opening up connection, grabbing the page\n",
    "uClient = uReq(my_url)\n",
    "page_html = uClient.read()\n",
    "uClient.close()"
   ]
  },
  {
   "cell_type": "code",
   "execution_count": 16,
   "metadata": {},
   "outputs": [],
   "source": [
    "# html parser\n",
    "page_soup = soup(page_html,'html.parser')"
   ]
  },
  {
   "cell_type": "code",
   "execution_count": 33,
   "metadata": {},
   "outputs": [
    {
     "data": {
      "text/plain": [
       "<h1 class=\"page-title-text\">\"graphics card\"</h1>"
      ]
     },
     "execution_count": 33,
     "metadata": {},
     "output_type": "execute_result"
    }
   ],
   "source": [
    "# see header of the page\n",
    "page_soup.h1"
   ]
  },
  {
   "cell_type": "code",
   "execution_count": 34,
   "metadata": {},
   "outputs": [
    {
     "data": {
      "text/plain": [
       "<span class=\"noCSS\">Skip to:</span>"
      ]
     },
     "execution_count": 34,
     "metadata": {},
     "output_type": "execute_result"
    }
   ],
   "source": [
    "page_soup.body.span"
   ]
  },
  {
   "cell_type": "code",
   "execution_count": 64,
   "metadata": {},
   "outputs": [
    {
     "data": {
      "text/plain": [
       "40"
      ]
     },
     "execution_count": 64,
     "metadata": {},
     "output_type": "execute_result"
    }
   ],
   "source": [
    "# grab each product\n",
    "# find all divs that have item-container\n",
    "# class-the object you are looking for \n",
    "containers = page_soup.findAll(\"div\",{\"class\" : \"item-container\"})\n",
    "len(containers)"
   ]
  },
  {
   "cell_type": "code",
   "execution_count": 65,
   "metadata": {},
   "outputs": [
    {
     "data": {
      "text/plain": [
       "<div class=\"item-container\" data-itemnumber=\"14-126-251\">\n",
       "<a class=\"item-img\" href=\"https://www.newegg.com/Product/Product.aspx?Item=14-126-251&amp;cm_sp=SearchSuccess-_-INFOCARD-_-graphics+card-_-14-126-251-_-1&amp;Description=graphics+card\">\n",
       "<img alt=\"ASUS DUAL RTX 2080 Overclocked Edition 8GB VR Ready Gaming Graphics Card - Turing Architecture (DUAL-RTX2080-O8G)\" src=\"//c1.neweggimages.com/ProductImageCompressAll300/14-126-251-V04.jpg\" title=\"ASUS DUAL RTX 2080 Overclocked Edition 8GB VR Ready Gaming Graphics Card - Turing Architecture (DUAL-RTX2080-O8G)\"/>\n",
       "</a>\n",
       "<div class=\"item-info\">\n",
       "<div class=\"item-branding\">\n",
       "<a class=\"item-rating\" href=\"https://www.newegg.com/Product/Product.aspx?Item=14-126-251&amp;cm_sp=SearchSuccess-_-INFOCARD-_-graphics+card-_-14-126-251-_-1&amp;Description=graphics+card&amp;IsFeedbackTab=true#scrollFullInfo\"><i class=\"rating rating-4\"></i><span class=\"item-rating-num\">(13)</span></a>\n",
       "</div>\n",
       "<a class=\"item-title\" href=\"https://www.newegg.com/Product/Product.aspx?Item=14-126-251&amp;cm_sp=SearchSuccess-_-INFOCARD-_-graphics+card-_-14-126-251-_-1&amp;Description=graphics+card\">\n",
       "<i class=\"icon-premier icon-premier-xsm\"></i>\n",
       "                            \n",
       "                            ASUS DUAL RTX 2080 Overclocked Edition 8GB VR Ready Gaming Graphic...\n",
       "                        </a>\n",
       "</div>\n",
       "</div>"
      ]
     },
     "execution_count": 65,
     "metadata": {},
     "output_type": "execute_result"
    }
   ],
   "source": [
    "containers[0]\n",
    "# copy this into jsbeautiful to find out things we want"
   ]
  },
  {
   "cell_type": "code",
   "execution_count": 51,
   "metadata": {},
   "outputs": [
    {
     "data": {
      "text/plain": [
       "'ASUS DUAL RTX 2080 Overclocked Edition 8GB VR Ready Gaming Graphics Card - Turing Architecture (DUAL-RTX2080-O8G)'"
      ]
     },
     "execution_count": 51,
     "metadata": {},
     "output_type": "execute_result"
    }
   ],
   "source": [
    "# grab the attribute of each item\n",
    "container = containers[0]\n",
    "container.a.img['title']\n",
    "# image is a dictionary, so canuse key to locate 'title'"
   ]
  },
  {
   "cell_type": "code",
   "execution_count": 53,
   "metadata": {},
   "outputs": [
    {
     "data": {
      "text/plain": [
       "<div class=\"item-container\" data-itemnumber=\"14-126-251\">\n",
       "<a class=\"item-img\" href=\"https://www.newegg.com/Product/Product.aspx?Item=14-126-251&amp;cm_sp=SearchSuccess-_-INFOCARD-_-graphics+card-_-14-126-251-_-1&amp;Description=graphics+card\">\n",
       "<img alt=\"ASUS DUAL RTX 2080 Overclocked Edition 8GB VR Ready Gaming Graphics Card - Turing Architecture (DUAL-RTX2080-O8G)\" src=\"//c1.neweggimages.com/ProductImageCompressAll300/14-126-251-V04.jpg\" title=\"ASUS DUAL RTX 2080 Overclocked Edition 8GB VR Ready Gaming Graphics Card - Turing Architecture (DUAL-RTX2080-O8G)\"/>\n",
       "</a>\n",
       "<div class=\"item-info\">\n",
       "<div class=\"item-branding\">\n",
       "<a class=\"item-rating\" href=\"https://www.newegg.com/Product/Product.aspx?Item=14-126-251&amp;cm_sp=SearchSuccess-_-INFOCARD-_-graphics+card-_-14-126-251-_-1&amp;Description=graphics+card&amp;IsFeedbackTab=true#scrollFullInfo\"><i class=\"rating rating-4\"></i><span class=\"item-rating-num\">(13)</span></a>\n",
       "</div>\n",
       "<a class=\"item-title\" href=\"https://www.newegg.com/Product/Product.aspx?Item=14-126-251&amp;cm_sp=SearchSuccess-_-INFOCARD-_-graphics+card-_-14-126-251-_-1&amp;Description=graphics+card\">\n",
       "<i class=\"icon-premier icon-premier-xsm\"></i>\n",
       "                            \n",
       "                            ASUS DUAL RTX 2080 Overclocked Edition 8GB VR Ready Gaming Graphic...\n",
       "                        </a>\n",
       "</div>\n",
       "</div>"
      ]
     },
     "execution_count": 53,
     "metadata": {},
     "output_type": "execute_result"
    }
   ],
   "source": [
    "container"
   ]
  },
  {
   "cell_type": "code",
   "execution_count": 56,
   "metadata": {},
   "outputs": [
    {
     "data": {
      "text/plain": [
       "[]"
      ]
     },
     "execution_count": 56,
     "metadata": {},
     "output_type": "execute_result"
    }
   ],
   "source": [
    "# shipping attribute\n",
    "shipping_container = container.findAll(\"li\",{\"class\":\"price-ship\"})\n",
    "shipping_container"
   ]
  },
  {
   "cell_type": "code",
   "execution_count": 69,
   "metadata": {},
   "outputs": [
    {
     "name": "stdout",
     "output_type": "stream",
     "text": [
      "brand:ASUS DUAL RTX 2080 Overclocked Edition 8GB VR Ready Gaming Graphics Card - Turing Architecture (DUAL-RTX2080-O8G)\n",
      "brand:ASUS ROG STRIX GeForce RTX 2080 Overclocked 8G GDDR6 HDMI DP 1.4 USB Type-C (ROG-STRIX-RTX2080-O8G-GAMING)\n",
      "brand:MSI GeForce RTX 2080 DUKE 8G OC Video Card\n",
      "brand:GIGABYTE GeForce RTX 2080 GAMING OC WHITE 8G Video Card, GV-N2080GAMINGOC WHITE-8GC\n",
      "brand:GIGABYTE GeForce GTX 1060 DirectX 12 GV-N1060WF2OC-6GD 6GB 192-Bit GDDR5 PCI Express 3.0 x16 ATX Video Card\n",
      "brand:GIGABYTE Radeon RX 570 DirectX 12 GV-RX570GAMING-4GD 4GB 256-Bit GDDR5 PCI Express 3.0 x16 CrossFireX Support ATX Video Card\n",
      "brand:MSI GeForce GTX 1060 DirectX 12 GTX 1060 GAMING X 6G 6GB 192-Bit GDDR5 PCI Express 3.0 x16 HDCP Ready ATX Video Card\n",
      "brand:GIGABYTE GeForce GTX 1070 Ti DirectX 12 GV-N107TWF2-8GD 8GB 256-Bit GDDR5 PCI Express 3.0 x16 SLI Support ATX Video Card\n",
      "brand:GIGABYTE GeForce RTX 2080 GAMING OC 8G Video Card, GV-N2080GAMING OC-8GC\n",
      "brand:EVGA GeForce RTX 2070 XC GAMING, 08G-P4-2172-KR, 8GB GDDR6, Dual HDB Fans & RGB LED\n",
      "brand:MSI Radeon RX 570 DirectX 12 RX 570 ARMOR 8G OC 8GB 256-Bit GDDR5 PCI Express x16 HDCP Ready CrossFireX Support ATX Video Card\n",
      "brand:ASUS Cerberus GeForce GTX 1050 Ti 4GB OC Edition GDDR5 Gaming Graphics Card, CERBERUS-GTX1050TI-O4G\n",
      "brand:EVGA GeForce RTX 2070 XC ULTRA GAMING, 08G-P4-2173-KR, 8GB GDDR6, Dual HDB Fans & RGB LED\n",
      "brand:ASUS ROG GeForce GTX 1070 STRIX-GTX1070-O8G-GAMING 8GB 256-Bit GDDR5 PCI Express 3.0 HDCP Ready Video Card with RGB Lighting\n",
      "brand:PowerColor RED DEVIL Radeon RX 580 DirectX 12 AXRX 580 8GBD5-3DH/OC 8GB 256-Bit GDDR5 PCI Express 3.0 CrossFireX Support ATX Video Card\n",
      "brand:EVGA GeForce GTX 1060 GAMING, ACX 2.0 (Single Fan), 06G-P4-6161-KR, 6GB GDDR5, DX12 OSD Support (PXOC), Only 6.8 Inches\n",
      "brand:EVGA GeForce GTX 1060 SC GAMING, ACX 2.0 (Single Fan), 06G-P4-6163-KR, 6GB GDDR5, DX12 OSD Support (PXOC), Only 6.8 Inches\n",
      "brand:PowerColor RED DRAGON Radeon RX 580 DirectX 12 AXRX 580 8GBD5-3DHDV2/OC 8GB 256-Bit GDDR5 PCI Express 3.0 CrossFireX Support ATX Video Card\n",
      "brand:MSI Radeon RX 580 DirectX 12 RX 580 ARMOR MK2 8G OC 8GB 256-Bit GDDR5 PCI Express x16 HDCP Ready CrossFireX Support Video Card\n",
      "brand:ASUS ROG Strix Radeon RX 570 O4G Gaming OC Edition GDDR5 DP HDMI DVI VR Ready AMD Graphics Card (ROG-STRIX-RX570-O4G-GAMING)\n",
      "brand:MSI GeForce GTX 1050 DirectX 12 GTX 1050 GAMING X 2G 2GB 128-Bit GDDR5 PCI Express 3.0 x16 HDCP Ready ATX Video Card\n",
      "brand:ASUS GeForce GTX 1070 DUAL-GTX1070-O8G 8GB 256-Bit GDDR5 PCI Express 3.0 HDCP Ready SLI Support Video Card\n",
      "brand:MSI GeForce GTX 1070 DirectX 12 GTX 1070 ARMOR 8G OC 8GB 256-Bit GDDR5 PCI Express 3.0 x16 HDCP Ready SLI Support ATX Video Card\n",
      "brand:MSI GeForce GT 1030 DirectX 12 GT 1030 2GH LP OC 2GB 64-Bit GDDR5 PCI Express 3.0 x16 (uses x4) HDCP Ready Low Profile Video Card\n",
      "brand:MSI GeForce GTX 1060 DirectX 12 GTX 1060 6GT OCV1 6GB 192-Bit GDDR5 PCI Express 3.0 x16 HDCP Ready ATX Video Card\n",
      "brand:ASUS Radeon RX 580 O4G Dual-fan OC Edition GDDR5 DP HDMI DVI VR Ready AMD Graphics Card (DUAL-RX580-O4G)\n",
      "brand:ASUS GeForce GTX 1060 DUAL-GTX1060-O6G 6GB 192-Bit GDDR5 PCI Express 3.0 HDCP Ready Video Card\n",
      "brand:MSI GeForce RTX 2080 DUKE 8G OC Video Card\n",
      "brand:EVGA GeForce GTX 1060 GAMING, ACX 2.0 (Single Fan), 03G-P4-6160-KR, 3GB GDDR5, DX12 OSD Support (PXOC), Only 6.8 Inches\n",
      "brand:MSI Radeon RX 580 DirectX 12 Radeon RX 580 8G V1 8GB 256-Bit GDDR5 PCI Express x16 HDCP Ready CrossFireX Support Video Card\n",
      "brand:MSI Radeon RX 580 DirectX 12 RX 580 ARMOR 8G OC 8GB 256-Bit GDDR5 PCI Express x16 HDCP Ready CrossFireX Support Video Card\n",
      "brand:ASUS Cerberus GeForce GTX 1070 Ti CERBERUS-GTX1070TI-A8G-GAMING 8GB 256-Bit GDDR5 PCI Express 3.0 HDCP Ready Video Card\n",
      "brand:MSI GeForce GTX 1050 Ti DirectX 12 GTX 1050 TI 4GT LP 4GB 128-Bit GDDR5 PCI Express 3.0 x16 HDCP Ready Low Profile Video Card\n",
      "brand:MSI GeForce RTX 2070 DirectX 12 RTX 2070 DUKE 8G OC 8GB 256-Bit GDDR6 PCI Express 3.0 x16 HDCP Ready Video Card\n",
      "brand:MSI GeForce GTX 1060 DirectX 12 GeForce GTX 1060 GAMING 6G 6GB 192-Bit GDDR5 PCI Express 3.0 x16 HDCP Ready ATX Video Card\n",
      "brand:GIGABYTE GeForce RTX 2080 GAMING OC WHITE 8G Video Card, GV-N2080GAMINGOC WHITE-8GC\n",
      "brand:ASRock Phantom Gaming X Radeon RX 570 DirectX 12 RX570 4G OC 4GB 256-Bit GDDR5 PCI Express 3.0 x16 HDCP Ready Video Card\n",
      "brand:ZOTAC GeForce GTX 1070 Ti DirectX 12 ZT-P10710B-10P 8GB 256-Bit GDDR5 PCI Express 3.0 HDCP Ready SLI Support Video Card - AMP! EXTREME Edition\n",
      "brand:ASUS ROG STRIX GeForce RTX 2080 Overclocked 8G GDDR6 HDMI DP 1.4 USB Type-C (ROG-STRIX-RTX2080-O8G-GAMING)\n",
      "brand:MSI GeForce GTX 1070 Ti DirectX 12 GTX 1070 Ti Titanium 8G 8GB 256-Bit GDDR5 PCI Express 3.0 x16 HDCP Ready SLI Support ATX Video Card\n"
     ]
    }
   ],
   "source": [
    "filename = \"trail.csv\"\n",
    "f = open(filename,\"w\")\n",
    "headers = \"brand\\n\"\n",
    "f.write(headers)\n",
    "for container in containers:\n",
    "    brand = container.a.img['title']\n",
    "    \n",
    "    print(\"brand:\"+ brand)\n",
    "    \n",
    "    f.write(brand +\"\\n\")\n",
    "f.close()"
   ]
  },
  {
   "cell_type": "code",
   "execution_count": null,
   "metadata": {},
   "outputs": [],
   "source": []
  }
 ],
 "metadata": {
  "kernelspec": {
   "display_name": "Python 3",
   "language": "python",
   "name": "python3"
  },
  "language_info": {
   "codemirror_mode": {
    "name": "ipython",
    "version": 3
   },
   "file_extension": ".py",
   "mimetype": "text/x-python",
   "name": "python",
   "nbconvert_exporter": "python",
   "pygments_lexer": "ipython3",
   "version": "3.6.3"
  }
 },
 "nbformat": 4,
 "nbformat_minor": 2
}
