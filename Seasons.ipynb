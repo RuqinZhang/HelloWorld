{
 "cells": [
  {
   "cell_type": "code",
   "execution_count": 1,
   "metadata": {},
   "outputs": [],
   "source": [
    "import selenium\n",
    "from selenium.webdriver import Firefox\n",
    "import re\n",
    "import csv\n",
    "import pandas as pd\n",
    "from bs4 import BeautifulSoup\n",
    "from selenium import webdriver\n",
    "from selenium.webdriver.common.keys import Keys\n",
    "from selenium.webdriver.support.ui import WebDriverWait\n",
    "from selenium.webdriver.support import expected_conditions as EC\n",
    "import time"
   ]
  },
  {
   "cell_type": "code",
   "execution_count": 32,
   "metadata": {},
   "outputs": [],
   "source": [
    "def crawl_seasons(category:int,pages:int):\n",
    "    df = pd.DataFrame(columns = ['Name','Price','Sale','Image'])\n",
    "    url = \"https://seasonskosher.com/clifton/#\"\n",
    "    driver = webdriver.Firefox() # Initialize a webdrive in Firefox\n",
    "    driver.get(url)\n",
    "    element = driver.find_element_by_id(\"small-switch-store2\")\n",
    "    driver.implicitly_wait(5)\n",
    "    element.send_keys(\"10025\") # insert zip code\n",
    "    driver.find_elements_by_css_selector('a.zip-code-arrow')[1].click() \n",
    "    driver.implicitly_wait(5)\n",
    "    driver.find_elements_by_css_selector('img.c-img')[7].click()  # get into groceries categories\n",
    "    driver.implicitly_wait(5)\n",
    "    driver.find_elements_by_css_selector('h2.category-title')[category].click()  # get into subclass of groceries\n",
    "    for j in range(1,pages):\n",
    "        products=driver.find_elements_by_css_selector('div.product-item')\n",
    "        for i in range(len(products)):\n",
    "            if products[i].text:\n",
    "                nameprice = products[i].text             \n",
    "                name = nameprice.split('\\n')[0]\n",
    "                price = nameprice.split('\\n')[1]\n",
    "                image=products[i].find_elements_by_tag_name('img')[0].get_attribute('src')\n",
    "                row = {\"Name\":name,\"Price\":price,\"Sale\":\"No Sale\",\"Image\":image}\n",
    "                df.loc[df.shape[0]+1] = row\n",
    "        if j<(pages-1):\n",
    "            driver.refresh()\n",
    "#             driver.implicitly_wait(80)\n",
    "            driver.find_elements_by_css_selector('a.next')[0].click()  # click the next page\n",
    "        else:\n",
    "            return df"
   ]
  },
  {
   "cell_type": "code",
   "execution_count": 33,
   "metadata": {},
   "outputs": [],
   "source": [
    "d1=crawl_seasons(1,6)"
   ]
  },
  {
   "cell_type": "code",
   "execution_count": 44,
   "metadata": {},
   "outputs": [],
   "source": [
    "d2=crawl_seasons(4,10)"
   ]
  },
  {
   "cell_type": "code",
   "execution_count": 48,
   "metadata": {},
   "outputs": [],
   "source": [
    "d3=crawl_seasons(7,2)"
   ]
  },
  {
   "cell_type": "code",
   "execution_count": 47,
   "metadata": {},
   "outputs": [],
   "source": [
    "d4=crawl_seasons(8,4)"
   ]
  },
  {
   "cell_type": "code",
   "execution_count": 49,
   "metadata": {},
   "outputs": [],
   "source": [
    "d5=crawl_seasons(9,10)"
   ]
  },
  {
   "cell_type": "code",
   "execution_count": 50,
   "metadata": {},
   "outputs": [],
   "source": [
    "d6=crawl_seasons(10,3)"
   ]
  },
  {
   "cell_type": "code",
   "execution_count": 52,
   "metadata": {},
   "outputs": [],
   "source": [
    "d7=crawl_seasons(11,6)"
   ]
  },
  {
   "cell_type": "code",
   "execution_count": 54,
   "metadata": {},
   "outputs": [],
   "source": [
    "d8=crawl_seasons(12,10)"
   ]
  },
  {
   "cell_type": "code",
   "execution_count": 56,
   "metadata": {},
   "outputs": [],
   "source": [
    "d9=crawl_seasons(14,9)"
   ]
  },
  {
   "cell_type": "code",
   "execution_count": 57,
   "metadata": {},
   "outputs": [],
   "source": [
    "d10=crawl_seasons(15,7)"
   ]
  },
  {
   "cell_type": "code",
   "execution_count": 58,
   "metadata": {},
   "outputs": [],
   "source": [
    "d11=crawl_seasons(16,3)"
   ]
  },
  {
   "cell_type": "code",
   "execution_count": 59,
   "metadata": {},
   "outputs": [
    {
     "data": {
      "text/plain": [
       "778"
      ]
     },
     "execution_count": 59,
     "metadata": {},
     "output_type": "execute_result"
    }
   ],
   "source": [
    "df_seasons = pd.concat([d1,d2,d3,d4,d5,d6,d7,d8,d9,d10,d11],ignore_index = True)\n",
    "df_seasons.drop_duplicates(subset=None,keep='first',inplace=True)\n",
    "# len(df_seasons)\n",
    "# write to csv_file\n",
    "df_seasons.to_csv('Seasons_allgrocery.csv')"
   ]
  }
 ],
 "metadata": {
  "kernelspec": {
   "display_name": "Python 3",
   "language": "python",
   "name": "python3"
  },
  "language_info": {
   "codemirror_mode": {
    "name": "ipython",
    "version": 3
   },
   "file_extension": ".py",
   "mimetype": "text/x-python",
   "name": "python",
   "nbconvert_exporter": "python",
   "pygments_lexer": "ipython3",
   "version": "3.6.5"
  }
 },
 "nbformat": 4,
 "nbformat_minor": 2
}
