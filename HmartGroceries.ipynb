{
 "cells": [
  {
   "cell_type": "code",
   "execution_count": null,
   "metadata": {},
   "outputs": [],
   "source": [
    "import bs4"
   ]
  },
  {
   "cell_type": "code",
   "execution_count": null,
   "metadata": {},
   "outputs": [],
   "source": [
    "from urllib.request import urlopen as uReq\n",
    "from bs4 import BeautifulSoup as soup"
   ]
  },
  {
   "cell_type": "code",
   "execution_count": null,
   "metadata": {},
   "outputs": [],
   "source": [
    "my_url = 'https://www.hmart.com/groceries/snacks'\n",
    "my_url"
   ]
  },
  {
   "cell_type": "code",
   "execution_count": null,
   "metadata": {},
   "outputs": [],
   "source": [
    "# opening up connection, grabbing the page\n",
    "uClient = uReq(my_url)\n",
    "page_html = uClient.read()\n",
    "uClient.close()"
   ]
  },
  {
   "cell_type": "code",
   "execution_count": null,
   "metadata": {},
   "outputs": [],
   "source": [
    "# html parser\n",
    "page_soup = soup(page_html,'html.parser')"
   ]
  },
  {
   "cell_type": "code",
   "execution_count": null,
   "metadata": {},
   "outputs": [],
   "source": [
    "page_soup.body.div"
   ]
  },
  {
   "cell_type": "code",
   "execution_count": null,
   "metadata": {
    "scrolled": true
   },
   "outputs": [],
   "source": [
    "# see header of the page\n",
    "page_soup.head"
   ]
  },
  {
   "cell_type": "code",
   "execution_count": null,
   "metadata": {},
   "outputs": [],
   "source": [
    "# grab each product\n",
    "# find all divs that have item-container\n",
    "# class-the object you are looking for \n",
    "products = page_soup.findAll(\"div\",{\"class\":\"product-item-info\"})\n",
    "len(products)"
   ]
  },
  {
   "cell_type": "code",
   "execution_count": null,
   "metadata": {},
   "outputs": [],
   "source": [
    "products[0]\n",
    "# copy this into jsbeautiful to find out things we want"
   ]
  },
  {
   "cell_type": "code",
   "execution_count": null,
   "metadata": {},
   "outputs": [],
   "source": [
    "# name\n",
    "product = products[0]\n",
    "name = product.find(\"a\",{\"class\":\"product-item-link\"}).string.strip()\n",
    "name"
   ]
  },
  {
   "cell_type": "code",
   "execution_count": null,
   "metadata": {},
   "outputs": [],
   "source": [
    "# price\n",
    "price = product.find(\"span\",{\"class\":\"price\"}).string\n",
    "price\n"
   ]
  },
  {
   "cell_type": "code",
   "execution_count": null,
   "metadata": {},
   "outputs": [],
   "source": [
    "# image\n",
    "\n",
    "image = product.find(\"span\",{\"class\":\"product-image-wrapper\"}).img['src']\n",
    "image"
   ]
  },
  {
   "cell_type": "code",
   "execution_count": null,
   "metadata": {},
   "outputs": [],
   "source": [
    "# sale\n",
    "product = products[0]\n",
    "sale = product.find(\"div\",{\"class\":\"product-price-flag\"}).span\n",
    "if sale == None:\n",
    "    sale = 'No Sale'\n",
    "else:\n",
    "    sale = 'On Sale'\n",
    "sale"
   ]
  },
  {
   "cell_type": "code",
   "execution_count": null,
   "metadata": {},
   "outputs": [],
   "source": [
    "# without ssale\n",
    "product = products[1]\n",
    "name = product.find(\"a\",{\"class\":\"product-item-link\"}).string.strip()\n",
    "print(name)\n",
    "sale = product.find(\"div\",{\"class\":\"product-price-flag\"}).span\n",
    "print(sale)"
   ]
  },
  {
   "cell_type": "code",
   "execution_count": null,
   "metadata": {},
   "outputs": [],
   "source": []
  },
  {
   "cell_type": "code",
   "execution_count": null,
   "metadata": {},
   "outputs": [],
   "source": [
    "# single page crawler\n",
    "\n",
    "my_url = 'https://www.hmart.com/groceries?p=0'\n",
    "uClient = uReq(my_url)\n",
    "page_html = uClient.read()\n",
    "uClient.close()\n",
    "page_soup = soup(page_html,'html.parser')\n",
    "products = page_soup.findAll(\"div\",{\"class\":\"product-item-info\"})\n",
    "\n",
    "filename = \"H-mart trail.csv\"\n",
    "f = open(filename,\"w\")\n",
    "headers = \"name, price, image, sale\\n\"\n",
    "f.write(headers)\n",
    "\n",
    "for product in products:\n",
    "    name = product.find(\"a\",{\"class\":\"product-item-link\"}).string.strip()\n",
    "    price = product.find(\"span\",{\"class\":\"price\"}).string\n",
    "    image = product.find(\"span\",{\"class\":\"product-image-wrapper\"}).img['src']\n",
    "    sale = product.find(\"div\",{\"class\":\"product-price-flag\"}).span\n",
    "    if sale == None:\n",
    "        sale = 'No Sale'\n",
    "    else:\n",
    "        sale = 'On Sale'\n",
    "\n",
    "    print(\"name:\" + name)\n",
    "    print(\"price:\" + price )\n",
    "    print(\"image:\" + image)\n",
    "    print(\"sale:\" + sale )\n",
    "    \n",
    "    f.write(name + \",\" + price+ \",\" + image + \",\" + sale + \"\\n\")\n",
    "f.close()"
   ]
  },
  {
   "cell_type": "code",
   "execution_count": null,
   "metadata": {},
   "outputs": [],
   "source": []
  },
  {
   "cell_type": "code",
   "execution_count": null,
   "metadata": {},
   "outputs": [],
   "source": [
    "# page loop\n",
    "\n",
    "filename = \"H-mart page 23.csv\"\n",
    "f = open(filename,\"w\")\n",
    "headers = \"name, price, image, sale\\n\"\n",
    "f.write(headers)\n",
    "\n",
    "for i in range(0,11):\n",
    "    my_url_i = 'https://www.hmart.com/groceries/snacks?p='+str(i)\n",
    "    uClient = uReq(my_url_i)\n",
    "    page_html = uClient.read()\n",
    "    uClient.close()\n",
    "    page_soup = soup(page_html,'html.parser')\n",
    "    products = page_soup.findAll(\"div\",{\"class\":\"product-item-info\"})\n",
    "    \n",
    "    for product in products:\n",
    "        name = product.find(\"a\",{\"class\":\"product-item-link\"}).string.strip()\n",
    "        price = product.find(\"span\",{\"class\":\"price\"}).string\n",
    "        image = product.find(\"span\",{\"class\":\"product-image-wrapper\"}).img['src']\n",
    "        sale = product.find(\"div\",{\"class\":\"product-price-flag\"}).span\n",
    "        if sale == None:\n",
    "            sale = 'No Sale'\n",
    "        else:\n",
    "            sale = 'On Sale'\n",
    "\n",
    "        print(\"name:\" + name)\n",
    "        print(\"price:\" + price )\n",
    "        print(\"image:\" + image)\n",
    "        print(\"sale:\" + sale )\n",
    "        \n",
    "        f.write(name + \",\" + price+ \",\" + image + \",\" + sale + \"\\n\")\n",
    "        \n",
    "f.close()"
   ]
  },
  {
   "cell_type": "code",
   "execution_count": null,
   "metadata": {},
   "outputs": [],
   "source": []
  },
  {
   "cell_type": "code",
   "execution_count": null,
   "metadata": {},
   "outputs": [],
   "source": [
    "# all groceries\n",
    "\n",
    "my_url = 'https://www.hmart.com/groceries?p=0&product_list_limit=all'\n",
    "uClient = uReq(my_url)\n",
    "page_html = uClient.read()\n",
    "uClient.close()\n",
    "page_soup = soup(page_html,'html.parser')\n",
    "products = page_soup.findAll(\"div\",{\"class\":\"product-item-info\"})\n",
    "\n",
    "filename = \"H-mart all groceries.csv\"\n",
    "f = open(filename,\"w\")\n",
    "headers = \"name, price, image, sale\\n\"\n",
    "f.write(headers)\n",
    "\n",
    "for product in products:\n",
    "    name = product.find(\"a\",{\"class\":\"product-item-link\"}).string.strip()\n",
    "    price = product.find(\"span\",{\"class\":\"price\"}).string\n",
    "    image = product.find(\"span\",{\"class\":\"product-image-wrapper\"}).img['src']\n",
    "    sale = product.find(\"div\",{\"class\":\"product-price-flag\"}).span\n",
    "    if sale == None:\n",
    "        sale = 'No Sale'\n",
    "    else:\n",
    "        sale = 'On Sale'\n",
    "\n",
    "    print(\"name:\" + name)\n",
    "    print(\"price:\" + price )\n",
    "    print(\"image:\" + image)\n",
    "    print(\"sale:\" + sale )\n",
    "    \n",
    "    f.write(name + \",\" + price+ \",\" + image + \",\" + sale + \"\\n\")\n",
    "f.close()"
   ]
  },
  {
   "cell_type": "code",
   "execution_count": null,
   "metadata": {},
   "outputs": [],
   "source": []
  }
 ],
 "metadata": {
  "kernelspec": {
   "display_name": "Python 3",
   "language": "python",
   "name": "python3"
  },
  "language_info": {
   "codemirror_mode": {
    "name": "ipython",
    "version": 3
   },
   "file_extension": ".py",
   "mimetype": "text/x-python",
   "name": "python",
   "nbconvert_exporter": "python",
   "pygments_lexer": "ipython3",
   "version": "3.6.3"
  }
 },
 "nbformat": 4,
 "nbformat_minor": 2
}
