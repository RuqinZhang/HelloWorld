{
 "cells": [
  {
   "cell_type": "code",
   "execution_count": 12,
   "metadata": {},
   "outputs": [],
   "source": [
    "import bs4\n",
    "from urllib.request import urlopen as uReq\n",
    "from bs4 import BeautifulSoup as soup\n",
    "import pandas as pd"
   ]
  },
  {
   "cell_type": "code",
   "execution_count": 2,
   "metadata": {},
   "outputs": [],
   "source": [
    "my_url = 'https://www.hmart.com/groceries?p=0&product_list_limit=all'\n",
    "uClient = uReq(my_url)\n",
    "page_html = uClient.read()\n",
    "uClient.close()\n",
    "page_soup = soup(page_html,'html.parser')\n",
    "products = page_soup.findAll(\"div\",{\"class\":\"product-item-info\"})"
   ]
  },
  {
   "cell_type": "code",
   "execution_count": 15,
   "metadata": {},
   "outputs": [],
   "source": [
    "def hmart():\n",
    "    hmart = pd.DataFrame(columns = ['Name','Price','Sale','Image'])\n",
    "    for product in products:\n",
    "        name = product.find(\"a\",{\"class\":\"product-item-link\"}).string.strip()\n",
    "        price = product.find(\"span\",{\"class\":\"price\"}).string\n",
    "        image = product.find(\"span\",{\"class\":\"product-image-wrapper\"}).img['src']\n",
    "        sale = product.find(\"div\",{\"class\":\"product-price-flag\"}).span\n",
    "        if sale == None:\n",
    "            sale = 'NoSale'\n",
    "        else:\n",
    "            sale = 'OnSale'\n",
    "        row = {\"Name\":name,\"Price\":price,\"Sale\":sale,\"Image\":image}\n",
    "        hmart.loc[hmart.shape[0]+1] = row\n",
    "    return hmart"
   ]
  },
  {
   "cell_type": "code",
   "execution_count": 17,
   "metadata": {},
   "outputs": [],
   "source": [
    "hmart_df = hmart()\n",
    "hmart_df.to_csv('Hmart.csv')"
   ]
  }
 ],
 "metadata": {
  "kernelspec": {
   "display_name": "Python 3",
   "language": "python",
   "name": "python3"
  },
  "language_info": {
   "codemirror_mode": {
    "name": "ipython",
    "version": 3
   },
   "file_extension": ".py",
   "mimetype": "text/x-python",
   "name": "python",
   "nbconvert_exporter": "python",
   "pygments_lexer": "ipython3",
   "version": "3.6.5"
  }
 },
 "nbformat": 4,
 "nbformat_minor": 2
}


Code Reference: [Intro to Web Scraping with Python and Beautiful Soup] https://www.youtube.com/watch?v=XQgXKtPSzUI&t=1318s
