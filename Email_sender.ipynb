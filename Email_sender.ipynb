{
 "cells": [
  {
   "cell_type": "code",
   "execution_count": 1,
   "metadata": {},
   "outputs": [],
   "source": [
    "import smtplib;\n",
    "from email.mime.text import MIMEText\n",
    "from email.header import Header"
   ]
  },
  {
   "cell_type": "code",
   "execution_count": null,
   "metadata": {},
   "outputs": [],
   "source": [
    "smtp = smtplib.SMTP('smtp.gmail.com', 587);\n",
    "smtp.starttls()\n",
    "message = MIMEText('Milk from Westside is on sale')\n",
    "message['From'] = Header('HelloWorld Group')\n",
    "message['To'] = Header('Customers')\n",
    "message['Subject'] = Header('Promotion')\n",
    "email_sender = input(\"To test the fucntion, please enter your google email address as a sender: \")\n",
    "email_password = input(\"Please enter your app specific password to login: \")\n",
    "try:\n",
    "    smtp.login(str(email_sender),str(email_password))\n",
    "except:\n",
    "    print(\"Fail to login\")\n",
    "email_receiver = input(\"Please enter the email address you want to send to:\")\n",
    "try: \n",
    "    smtp.sendmail(email_sender,email_receiver,message.as_string())\n",
    "    print(\"Send emails successfully\")\n",
    "except smtplib.SMTPException:\n",
    "    print(\"Cannot send emails.\")"
   ]
  }
 ],
 "metadata": {
  "kernelspec": {
   "display_name": "Python 3",
   "language": "python",
   "name": "python3"
  },
  "language_info": {
   "codemirror_mode": {
    "name": "ipython",
    "version": 3
   },
   "file_extension": ".py",
   "mimetype": "text/x-python",
   "name": "python",
   "nbconvert_exporter": "python",
   "pygments_lexer": "ipython3",
   "version": "3.6.5"
  }
 },
 "nbformat": 4,
 "nbformat_minor": 2
}
